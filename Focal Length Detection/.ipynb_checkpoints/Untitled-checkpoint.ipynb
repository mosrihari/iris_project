{
 "cells": [
  {
   "cell_type": "code",
   "execution_count": 13,
   "id": "amended-chemistry",
   "metadata": {},
   "outputs": [],
   "source": [
    "import win32com.client\n",
    "\n",
    "def run():\n",
    "    try:\n",
    "        Application = win32com.client.Dispatch('Word.Application')\n",
    "        Word = Application.ActiveDocument\n",
    "        return Word\n",
    "    except:\n",
    "        return -1\n",
    "\n",
    "if __name__ == \"__main__\":\n",
    "    word = run()"
   ]
  },
  {
   "cell_type": "code",
   "execution_count": 14,
   "id": "greatest-louisiana",
   "metadata": {},
   "outputs": [],
   "source": [
    "range1 = word.Range(0,50)"
   ]
  },
  {
   "cell_type": "code",
   "execution_count": 15,
   "id": "applied-perth",
   "metadata": {},
   "outputs": [],
   "source": [
    "range1.Font.Size = 24"
   ]
  },
  {
   "cell_type": "code",
   "execution_count": null,
   "id": "consolidated-aberdeen",
   "metadata": {},
   "outputs": [],
   "source": []
  }
 ],
 "metadata": {
  "kernelspec": {
   "display_name": "handdetect",
   "language": "python",
   "name": "handdetect"
  },
  "language_info": {
   "codemirror_mode": {
    "name": "ipython",
    "version": 3
   },
   "file_extension": ".py",
   "mimetype": "text/x-python",
   "name": "python",
   "nbconvert_exporter": "python",
   "pygments_lexer": "ipython3",
   "version": "3.8.8"
  }
 },
 "nbformat": 4,
 "nbformat_minor": 5
}
