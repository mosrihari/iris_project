{
 "cells": [
  {
   "cell_type": "code",
   "execution_count": 23,
   "id": "united-bicycle",
   "metadata": {},
   "outputs": [],
   "source": [
    "import win32com.client\n",
    "\n",
    "def run():\n",
    "    try:\n",
    "        Application = win32com.client.Dispatch('Word.Application')\n",
    "        Word = Application.ActiveDocument\n",
    "        return Word\n",
    "    except:\n",
    "        return -1\n",
    "\n",
    "if __name__ == \"__main__\":\n",
    "    word = run()"
   ]
  },
  {
   "cell_type": "code",
   "execution_count": 24,
   "id": "assigned-george",
   "metadata": {},
   "outputs": [],
   "source": [
    "range1 = word.Range(0)"
   ]
  },
  {
   "cell_type": "code",
   "execution_count": 25,
   "id": "developing-kingdom",
   "metadata": {},
   "outputs": [
    {
     "data": {
      "text/plain": [
       "18.0"
      ]
     },
     "execution_count": 25,
     "metadata": {},
     "output_type": "execute_result"
    }
   ],
   "source": [
    "range1.Font.Size"
   ]
  },
  {
   "cell_type": "code",
   "execution_count": 22,
   "id": "dominant-stress",
   "metadata": {},
   "outputs": [],
   "source": [
    "range1.Font.Size = 50"
   ]
  },
  {
   "cell_type": "code",
   "execution_count": null,
   "id": "revolutionary-andrews",
   "metadata": {},
   "outputs": [],
   "source": []
  }
 ],
 "metadata": {
  "kernelspec": {
   "display_name": "handdetect",
   "language": "python",
   "name": "handdetect"
  },
  "language_info": {
   "codemirror_mode": {
    "name": "ipython",
    "version": 3
   },
   "file_extension": ".py",
   "mimetype": "text/x-python",
   "name": "python",
   "nbconvert_exporter": "python",
   "pygments_lexer": "ipython3",
   "version": "3.8.8"
  }
 },
 "nbformat": 4,
 "nbformat_minor": 5
}
